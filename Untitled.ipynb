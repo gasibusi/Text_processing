{
 "cells": [
  {
   "cell_type": "code",
   "execution_count": 30,
   "metadata": {
    "collapsed": false
   },
   "outputs": [],
   "source": [
    "from nltk import word_tokenize\n",
    "import gensim, logging\n",
    "import pandas as pd\n",
    "from spacy.en import English\n",
    "import nltk\n",
    "import re\n"
   ]
  },
  {
   "cell_type": "code",
   "execution_count": 19,
   "metadata": {
    "collapsed": false
   },
   "outputs": [
    {
     "data": {
      "text/html": [
       "<div>\n",
       "<table border=\"1\" class=\"dataframe\">\n",
       "  <thead>\n",
       "    <tr style=\"text-align: right;\">\n",
       "      <th></th>\n",
       "      <th>ProductId</th>\n",
       "      <th>StoredName</th>\n",
       "      <th>ProductName</th>\n",
       "      <th>Description</th>\n",
       "    </tr>\n",
       "  </thead>\n",
       "  <tbody>\n",
       "    <tr>\n",
       "      <th>0</th>\n",
       "      <td>3737497</td>\n",
       "      <td>http://cdn.styloko.com/images/29848585.jpg</td>\n",
       "      <td>Cotton Voile Asymmetric Flounced Dress</td>\n",
       "      <td>Asymmetric dress. A really feminine look with ...</td>\n",
       "    </tr>\n",
       "    <tr>\n",
       "      <th>2</th>\n",
       "      <td>6116702</td>\n",
       "      <td>http://cdn.styloko.com/images/7940119.jpg</td>\n",
       "      <td>Floaty Cap Sleeve Blouse with Crossover V-Neck...</td>\n",
       "      <td>Crossover draped V-neckline. Tie belt at the w...</td>\n",
       "    </tr>\n",
       "    <tr>\n",
       "      <th>4</th>\n",
       "      <td>7357769</td>\n",
       "      <td>http://cdn.styloko.com/images/24892894.jpg</td>\n",
       "      <td>V-Neck Dress With Elbow-Length Lace Sleeves</td>\n",
       "      <td>Elbow-length sleeves, V-neckline and scalloped...</td>\n",
       "    </tr>\n",
       "    <tr>\n",
       "      <th>5</th>\n",
       "      <td>7358188</td>\n",
       "      <td>http://cdn.styloko.com/images/24893327.jpg</td>\n",
       "      <td>ELLOS Long-Sleeved Satin Dress, Length 90 cm</td>\n",
       "      <td>Dress. Round neckline with single button faste...</td>\n",
       "    </tr>\n",
       "    <tr>\n",
       "      <th>7</th>\n",
       "      <td>7408359</td>\n",
       "      <td>http://cdn.styloko.com/images/24962120.jpg</td>\n",
       "      <td>LA REDOUTE EN PLUS 2-in-1 Effect Dress</td>\n",
       "      <td>A lovely 2-in-1 effect and a pretty gold-colou...</td>\n",
       "    </tr>\n",
       "  </tbody>\n",
       "</table>\n",
       "</div>"
      ],
      "text/plain": [
       "  ProductId                                  StoredName  \\\n",
       "0   3737497  http://cdn.styloko.com/images/29848585.jpg   \n",
       "2   6116702   http://cdn.styloko.com/images/7940119.jpg   \n",
       "4   7357769  http://cdn.styloko.com/images/24892894.jpg   \n",
       "5   7358188  http://cdn.styloko.com/images/24893327.jpg   \n",
       "7   7408359  http://cdn.styloko.com/images/24962120.jpg   \n",
       "\n",
       "                                         ProductName  \\\n",
       "0             Cotton Voile Asymmetric Flounced Dress   \n",
       "2  Floaty Cap Sleeve Blouse with Crossover V-Neck...   \n",
       "4        V-Neck Dress With Elbow-Length Lace Sleeves   \n",
       "5       ELLOS Long-Sleeved Satin Dress, Length 90 cm   \n",
       "7             LA REDOUTE EN PLUS 2-in-1 Effect Dress   \n",
       "\n",
       "                                         Description  \n",
       "0  Asymmetric dress. A really feminine look with ...  \n",
       "2  Crossover draped V-neckline. Tie belt at the w...  \n",
       "4  Elbow-length sleeves, V-neckline and scalloped...  \n",
       "5  Dress. Round neckline with single button faste...  \n",
       "7  A lovely 2-in-1 effect and a pretty gold-colou...  "
      ]
     },
     "execution_count": 19,
     "metadata": {},
     "output_type": "execute_result"
    }
   ],
   "source": [
    "df = pd.read_csv('TEXT-Dresses-All-Products.txt', sep=\"|\", header=0)\n",
    "df = df.drop_duplicates('ProductId')\n",
    "df.head()"
   ]
  },
  {
   "cell_type": "code",
   "execution_count": 20,
   "metadata": {
    "collapsed": false
   },
   "outputs": [],
   "source": [
    "parser = English()"
   ]
  },
  {
   "cell_type": "code",
   "execution_count": 35,
   "metadata": {
    "collapsed": false
   },
   "outputs": [],
   "source": [
    "descriptions = list(df.Description)\n",
    "sentences = [str(description).decode('utf-8') for description in descriptions]\n",
    "sentences = [re.sub(r'[^\\w]', ' ', s) for s in sentences]\n",
    "sentences = [word_tokenize(s) for s in sentences]\n",
    "sentences = map(lambda x:[i.lower() for i in x],sentences)"
   ]
  },
  {
   "cell_type": "code",
   "execution_count": 39,
   "metadata": {
    "collapsed": false
   },
   "outputs": [],
   "source": [
    "model = gensim.models.Word2Vec(sentences, min_count=20,workers=4,)"
   ]
  },
  {
   "cell_type": "code",
   "execution_count": 57,
   "metadata": {
    "collapsed": false
   },
   "outputs": [
    {
     "data": {
      "text/plain": [
       "[(u'scoop', 0.9578241109848022),\n",
       " (u'square', 0.8878757953643799),\n",
       " (u'halter', 0.887770414352417),\n",
       " (u'wide', 0.8770173788070679),\n",
       " (u'deep', 0.8717293739318848),\n",
       " (u'split', 0.8660334348678589),\n",
       " (u'plunging', 0.8654428124427795),\n",
       " (u'sweetheart', 0.8434847593307495),\n",
       " (u'boat', 0.8366353511810303),\n",
       " (u'mock', 0.8320097923278809)]"
      ]
     },
     "execution_count": 57,
     "metadata": {},
     "output_type": "execute_result"
    }
   ],
   "source": [
    "model.most_similar(positive=['v', 'neck'], negative=['neck'], topn=10)"
   ]
  },
  {
   "cell_type": "code",
   "execution_count": null,
   "metadata": {
    "collapsed": true
   },
   "outputs": [],
   "source": []
  }
 ],
 "metadata": {
  "kernelspec": {
   "display_name": "Python 2",
   "language": "python",
   "name": "python2"
  },
  "language_info": {
   "codemirror_mode": {
    "name": "ipython",
    "version": 2
   },
   "file_extension": ".py",
   "mimetype": "text/x-python",
   "name": "python",
   "nbconvert_exporter": "python",
   "pygments_lexer": "ipython2",
   "version": "2.7.11"
  }
 },
 "nbformat": 4,
 "nbformat_minor": 0
}
