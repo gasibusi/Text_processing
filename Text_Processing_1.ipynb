{
 "cells": [
  {
   "cell_type": "markdown",
   "metadata": {},
   "source": [
    "With the follwoing script, we will practice 1) uploading text csv files using python dataframe library called pandas, 2) cleaning/manipulating texts using several libraries such as beautifulsoup, nltk, or re, and 3) building feature vectors for further analysis. "
   ]
  },
  {
   "cell_type": "raw",
   "metadata": {},
   "source": [
    "###Querying data from Styloko SQL database using a sql editor called wagon: https://www.wagonhq.com/\n",
    "1. Sign up and download the free sql editor\n",
    "2. Provide login information: \n",
    "hostname: styloko-prod.cvqppmeyk5xt.us-east-1.rds.amazonaws.com\n",
    "port num: 1433\n",
    "database: styloko-production\n",
    "username: yj\n",
    "password: 4l1s4273995eB6a\n",
    "\n",
    "SQL query for getting productID, URL, productName, and productDescription:\n",
    "3. copy and paste the following sql query in the wagon query box\n",
    "SELECT P.Id as ProductId,PP.StoredName, rtrim(Pd.Name) as ProductName, rtrim(pd.Description) as Description\n",
    "FROM ProductToCategories PTC with(nolock)\n",
    "JOIN Products P with (nolock) ON PTC.ProductId= P.ID\n",
    "JOIN ProductPhotos PP with(nolock) ON P.ID=PP.ProductId\n",
    "JOIN Retailers R with(nolock) ON P.RetailerId=R.Id\n",
    "JOIN ProductCategories PC with(nolock) on PTC.CategoryId=PC.Id\n",
    "JOIN Brands B with(nolock) ON P.BrandId=B.Id\n",
    "join ProductDescriptions pd with(nolock) ON P.Id = pd.ProductId\n",
    "cross apply (select top 1 * from ProductAvailability with(nolock) where ProductId = p.Id and IsAvailable = 1) pa\n",
    "WHERE P.IsActive=1\n",
    "AND P.BrandId is not NULL\n",
    "AND PTC.CategoryId in (44,45,46,47,48,49,50,55,225,274,275,276,277,278,279,280)\n",
    "AND P.BrandId IS NOT NULL\n",
    "AND pd.LanguageId = 1\n",
    "\n",
    "4. Use the Export key to export the data into a cav file.\n",
    "\n",
    "5. For different clothing category, just change the category id list in \"PTC.CategoryId\"\n",
    "Trousers categories: (242,243,244,245,246,247,248,249,250,251)\n",
    "Shorts categories:   (58,59,60,61,62,66,70,223,224)\n",
    "Skirts categories:   (44,45,46,47,48,49,50,55,225,274,275,276,277,278,279,280)\n",
    "Tops categories:     (74,75,76,77,82,87,92,97,107,108,110,237,259)\n",
    "Dresses categories:  (31,43,268,36,42,34,40,37,35,33,32,41,269,270,38,271,254,39,272,273)\n",
    "Knitwear Categories: (206,207,208,209,210,283)\n",
    "Jackets Categories:  (22,23,24,25,26,27,28,29,186,256)\n",
    "Coats Categories:    (1,2,3,4,7,10,13,16,152,155,158,252)\n"
   ]
  },
  {
   "cell_type": "markdown",
   "metadata": {},
   "source": [
    "# Uploading a csv file"
   ]
  },
  {
   "cell_type": "code",
   "execution_count": 7,
   "metadata": {
    "collapsed": false
   },
   "outputs": [
    {
     "name": "stdout",
     "output_type": "stream",
     "text": [
      "(134856, 4)\n"
     ]
    },
    {
     "data": {
      "text/html": [
       "<div>\n",
       "<table border=\"1\" class=\"dataframe\">\n",
       "  <thead>\n",
       "    <tr style=\"text-align: right;\">\n",
       "      <th></th>\n",
       "      <th>ProductId</th>\n",
       "      <th>StoredName</th>\n",
       "      <th>ProductName</th>\n",
       "      <th>Description</th>\n",
       "    </tr>\n",
       "  </thead>\n",
       "  <tbody>\n",
       "    <tr>\n",
       "      <th>0</th>\n",
       "      <td>2895702</td>\n",
       "      <td>http://cdn.styloko.com/images/1637984.jpg</td>\n",
       "      <td>Silk skirt</td>\n",
       "      <td>Brown silk skirt from Ralph Lauren Black Label...</td>\n",
       "    </tr>\n",
       "    <tr>\n",
       "      <th>1</th>\n",
       "      <td>2895702</td>\n",
       "      <td>http://cdn.styloko.com/images/3443263.jpg</td>\n",
       "      <td>Silk skirt</td>\n",
       "      <td>Brown silk skirt from Ralph Lauren Black Label...</td>\n",
       "    </tr>\n",
       "    <tr>\n",
       "      <th>2</th>\n",
       "      <td>2895702</td>\n",
       "      <td>http://cdn.styloko.com/images/3443264.jpg</td>\n",
       "      <td>Silk skirt</td>\n",
       "      <td>Brown silk skirt from Ralph Lauren Black Label...</td>\n",
       "    </tr>\n",
       "    <tr>\n",
       "      <th>3</th>\n",
       "      <td>2895702</td>\n",
       "      <td>http://cdn.styloko.com/images/3443265.jpg</td>\n",
       "      <td>Silk skirt</td>\n",
       "      <td>Brown silk skirt from Ralph Lauren Black Label...</td>\n",
       "    </tr>\n",
       "    <tr>\n",
       "      <th>4</th>\n",
       "      <td>2895702</td>\n",
       "      <td>http://cdn.styloko.com/images/3443266.jpg</td>\n",
       "      <td>Silk skirt</td>\n",
       "      <td>Brown silk skirt from Ralph Lauren Black Label...</td>\n",
       "    </tr>\n",
       "  </tbody>\n",
       "</table>\n",
       "</div>"
      ],
      "text/plain": [
       "   ProductId                                 StoredName ProductName  \\\n",
       "0    2895702  http://cdn.styloko.com/images/1637984.jpg  Silk skirt   \n",
       "1    2895702  http://cdn.styloko.com/images/3443263.jpg  Silk skirt   \n",
       "2    2895702  http://cdn.styloko.com/images/3443264.jpg  Silk skirt   \n",
       "3    2895702  http://cdn.styloko.com/images/3443265.jpg  Silk skirt   \n",
       "4    2895702  http://cdn.styloko.com/images/3443266.jpg  Silk skirt   \n",
       "\n",
       "                                         Description  \n",
       "0  Brown silk skirt from Ralph Lauren Black Label...  \n",
       "1  Brown silk skirt from Ralph Lauren Black Label...  \n",
       "2  Brown silk skirt from Ralph Lauren Black Label...  \n",
       "3  Brown silk skirt from Ralph Lauren Black Label...  \n",
       "4  Brown silk skirt from Ralph Lauren Black Label...  "
      ]
     },
     "execution_count": 7,
     "metadata": {},
     "output_type": "execute_result"
    }
   ],
   "source": [
    "import pandas as pd\n",
    "df=pd.read_csv('Leon-Skirts-All-Products.csv',sep=',')\n",
    "print df.shape # outputs the size of the dataframe\n",
    "df.head()      # outputs the top few lines for a content viewing"
   ]
  },
  {
   "cell_type": "code",
   "execution_count": 8,
   "metadata": {
    "collapsed": false
   },
   "outputs": [
    {
     "name": "stdout",
     "output_type": "stream",
     "text": [
      "(35948, 4)\n"
     ]
    },
    {
     "data": {
      "text/html": [
       "<div>\n",
       "<table border=\"1\" class=\"dataframe\">\n",
       "  <thead>\n",
       "    <tr style=\"text-align: right;\">\n",
       "      <th></th>\n",
       "      <th>ProductId</th>\n",
       "      <th>StoredName</th>\n",
       "      <th>ProductName</th>\n",
       "      <th>Description</th>\n",
       "    </tr>\n",
       "  </thead>\n",
       "  <tbody>\n",
       "    <tr>\n",
       "      <th>0</th>\n",
       "      <td>2895702</td>\n",
       "      <td>http://cdn.styloko.com/images/1637984.jpg</td>\n",
       "      <td>Silk skirt</td>\n",
       "      <td>Brown silk skirt from Ralph Lauren Black Label...</td>\n",
       "    </tr>\n",
       "    <tr>\n",
       "      <th>6</th>\n",
       "      <td>3498543</td>\n",
       "      <td>http://cdn.styloko.com/images/2243555.jpg</td>\n",
       "      <td>stretch denim skirt</td>\n",
       "      <td>- FIT: - slim, straight style - length of side...</td>\n",
       "    </tr>\n",
       "    <tr>\n",
       "      <th>8</th>\n",
       "      <td>3498936</td>\n",
       "      <td>http://cdn.styloko.com/images/2243948.jpg</td>\n",
       "      <td>stretch poly/viscose skirt</td>\n",
       "      <td>- soft, floaty fabric in a classic blend, virt...</td>\n",
       "    </tr>\n",
       "    <tr>\n",
       "      <th>9</th>\n",
       "      <td>3499123</td>\n",
       "      <td>http://cdn.styloko.com/images/2244135.jpg</td>\n",
       "      <td>business skirt</td>\n",
       "      <td>- a classic outfit component for a smart offic...</td>\n",
       "    </tr>\n",
       "    <tr>\n",
       "      <th>11</th>\n",
       "      <td>3499296</td>\n",
       "      <td>http://cdn.styloko.com/images/2244308.jpg</td>\n",
       "      <td>cotton skirt</td>\n",
       "      <td>-casual all-rounder for leisure, town and holi...</td>\n",
       "    </tr>\n",
       "  </tbody>\n",
       "</table>\n",
       "</div>"
      ],
      "text/plain": [
       "    ProductId                                 StoredName  \\\n",
       "0     2895702  http://cdn.styloko.com/images/1637984.jpg   \n",
       "6     3498543  http://cdn.styloko.com/images/2243555.jpg   \n",
       "8     3498936  http://cdn.styloko.com/images/2243948.jpg   \n",
       "9     3499123  http://cdn.styloko.com/images/2244135.jpg   \n",
       "11    3499296  http://cdn.styloko.com/images/2244308.jpg   \n",
       "\n",
       "                   ProductName  \\\n",
       "0                   Silk skirt   \n",
       "6          stretch denim skirt   \n",
       "8   stretch poly/viscose skirt   \n",
       "9               business skirt   \n",
       "11                cotton skirt   \n",
       "\n",
       "                                          Description  \n",
       "0   Brown silk skirt from Ralph Lauren Black Label...  \n",
       "6   - FIT: - slim, straight style - length of side...  \n",
       "8   - soft, floaty fabric in a classic blend, virt...  \n",
       "9   - a classic outfit component for a smart offic...  \n",
       "11  -casual all-rounder for leisure, town and holi...  "
      ]
     },
     "execution_count": 8,
     "metadata": {},
     "output_type": "execute_result"
    }
   ],
   "source": [
    "df = df.drop_duplicates('ProductId') #drop duplicate rows based on productId\n",
    "print df.shape\n",
    "df.head()"
   ]
  },
  {
   "cell_type": "markdown",
   "metadata": {},
   "source": [
    "# Text Cleaning"
   ]
  },
  {
   "cell_type": "code",
   "execution_count": 68,
   "metadata": {
    "collapsed": false
   },
   "outputs": [
    {
     "name": "stdout",
     "output_type": "stream",
     "text": [
      "    ProductId                                 StoredName  \\\n",
      "0     2895702  http://cdn.styloko.com/images/1637984.jpg   \n",
      "6     3498543  http://cdn.styloko.com/images/2243555.jpg   \n",
      "8     3498936  http://cdn.styloko.com/images/2243948.jpg   \n",
      "9     3499123  http://cdn.styloko.com/images/2244135.jpg   \n",
      "11    3499296  http://cdn.styloko.com/images/2244308.jpg   \n",
      "\n",
      "                   ProductName  \\\n",
      "0                   Silk skirt   \n",
      "6          stretch denim skirt   \n",
      "8   stretch poly/viscose skirt   \n",
      "9               business skirt   \n",
      "11                cotton skirt   \n",
      "\n",
      "                                          Description  \\\n",
      "0   Brown silk skirt from Ralph Lauren Black Label...   \n",
      "6   - FIT: - slim, straight style - length of side...   \n",
      "8   - soft, floaty fabric in a classic blend, virt...   \n",
      "9   - a classic outfit component for a smart offic...   \n",
      "11  -casual all-rounder for leisure, town and holi...   \n",
      "\n",
      "                                                texts  \n",
      "0   Silk skirt Brown silk skirt from Ralph Lauren ...  \n",
      "6   stretch denim skirt - FIT: - slim, straight st...  \n",
      "8   stretch poly/viscose skirt - soft, floaty fabr...  \n",
      "9   business skirt - a classic outfit component fo...  \n",
      "11  cotton skirt -casual all-rounder for leisure, ...  \n",
      "['Silk skirt Brown silk skirt from Ralph Lauren Black Label featuring a concealed fastening and diagonal layers of ruffled fabric.', 'stretch denim skirt - FIT: - slim, straight style - length of side seam (can vary from size to size) approx. 48 cm  - FABRIC: - light stretch denim with typical washed-out effects - DETAILS: - woven belt with a double metal buckle with a narrower multicoloured woven tape on it - fixed waistband with belt loops, metal button and zip fly - five pockets, decorative dots embossed on the back pockets - 98% cotton/ 2% elastane - belt: 65% polyester/ 35% cotton']\n"
     ]
    }
   ],
   "source": [
    "# Extract product name and description and combine them\n",
    "df[\"texts\"] = df[\"ProductName\"] + ' ' + df[\"Description\"]\n",
    "print df.head()\n",
    "texts = list(df.texts)\n",
    "print texts[:2]"
   ]
  },
  {
   "cell_type": "code",
   "execution_count": 70,
   "metadata": {
    "collapsed": false
   },
   "outputs": [
    {
     "name": "stdout",
     "output_type": "stream",
     "text": [
      "['silk skirt brown silk skirt ralph lauren black label featuring concealed fastening diagonal layers ruffled fabric', 'stretch denim skirt fit slim straight style length side seam vary size size approx cm fabric light stretch denim typical washed effects details woven belt double metal buckle narrower multicoloured woven tape fixed waistband belt loops metal button zip fly five pockets decorative dots embossed back pockets cotton elastane belt polyester cotton', 'stretch poly viscose skirt soft floaty fabric classic blend virtually crease resistant looks smart simple curvy cut length side seam excluding waistband approx cm vary slightly size size zip kick pleat centre back mock back pockets', 'business skirt classic outfit component smart office look side seam length approx cm may vary slightly size size smooth finish soft drape crease resistant line skirt gores beautiful waistband decorative dividing seam stitching zip side seam taffeta lining outer fabric polyester cotton elastane lining acetate', 'cotton skirt casual rounder leisure town holidays lightweight cotton poplin side length approx cm vary slightly according size waistband belt loops logo button zip fly great extra robust belt multicoloured woven fabric metal buckle two slit pockets mini pocket front hip height flap pockets sides back fabric cotton']\n"
     ]
    }
   ],
   "source": [
    "# (1) remove anything that are not alphanumeric or underscore\n",
    "# \\w will match alphanumeric characters and underscores\n",
    "# [^\\w] will match anything that's not alphanumeric or underscore\n",
    "import re\n",
    "regex = re.compile('[^a-zA-Z]')\n",
    "texts=[regex.sub(' ', str(text)) for text in texts]\n",
    "# (2) Convert to lowercase\n",
    "texts = [text.lower() for text in texts]\n",
    "# (3) Remove repeating characters more than twice. \n",
    "#(.)\\1+ repleaces any character (.) followed by one or more of the same character. i.e. happpy -> happy\n",
    "texts = [re.sub(r'(.)\\1+', r'\\1\\1', text) for text in texts]    \n",
    "# (4) If the first two letters in a word repeats, then keep one of them. i.e. hhappy -> happy\n",
    "texts = [re.sub(r'\\b(\\w)\\1+', r'\\1', text) for text in texts]\n",
    "# (5) remove stopwords\n",
    "from nltk.corpus import stopwords\n",
    "cachedStopWords = stopwords.words(\"english\") #could add additional words to the list if necessary\n",
    "remove_stopWords = lambda s: ' '.join([w for w in s.split() if w not in cachedStopWords])\n",
    "texts = [remove_stopWords(text) for text in texts]\n",
    "# (6) remove extra whitespaces\n",
    "texts = [re.sub(' +',' ',text) for text in texts]\n",
    "texts = [text.lstrip() for text in texts]\n",
    "texts = [text.rstrip() for text in texts]\n",
    "print texts[:5]\n"
   ]
  },
  {
   "cell_type": "markdown",
   "metadata": {},
   "source": [
    "# Build a Term-document matrix\n",
    "### Reference: http://blog.christianperone.com/2011/10/machine-learning-text-feature-extraction-tf-idf-part-ii/"
   ]
  },
  {
   "cell_type": "code",
   "execution_count": 90,
   "metadata": {
    "collapsed": false
   },
   "outputs": [
    {
     "name": "stdout",
     "output_type": "stream",
     "text": [
      "***Vocabulary frequency from most frequent to least\n",
      "[(u'size', 7), (u'skirt', 7), (u'cotton', 6), (u'fabric', 6), (u'belt', 5), (u'pockets', 5), (u'seam', 5), (u'side', 5), (u'approx', 4), (u'back', 4), (u'cm', 4), (u'length', 4), (u'vary', 4), (u'waistband', 4), (u'zip', 4), (u'metal', 3), (u'slightly', 3), (u'stretch', 3), (u'woven', 3), (u'buckle', 2), (u'button', 2), (u'classic', 2), (u'crease', 2), (u'decorative', 2), (u'denim', 2), (u'elastane', 2), (u'fly', 2), (u'lining', 2), (u'loops', 2), (u'multicoloured', 2), (u'polyester', 2), (u'resistant', 2), (u'silk', 2), (u'smart', 2), (u'soft', 2), (u'according', 1), (u'acetate', 1), (u'beautiful', 1), (u'black', 1), (u'blend', 1), (u'brown', 1), (u'business', 1), (u'casual', 1), (u'centre', 1), (u'component', 1), (u'concealed', 1), (u'curvy', 1), (u'cut', 1), (u'details', 1), (u'diagonal', 1), (u'dividing', 1), (u'dots', 1), (u'double', 1), (u'drape', 1), (u'effects', 1), (u'embossed', 1), (u'excluding', 1), (u'extra', 1), (u'fastening', 1), (u'featuring', 1), (u'finish', 1), (u'fit', 1), (u'five', 1), (u'fixed', 1), (u'flap', 1), (u'floaty', 1), (u'front', 1), (u'gores', 1), (u'great', 1), (u'height', 1), (u'hip', 1), (u'holidays', 1), (u'kick', 1), (u'label', 1), (u'lauren', 1), (u'layers', 1), (u'leisure', 1), (u'light', 1), (u'lightweight', 1), (u'line', 1), (u'logo', 1), (u'look', 1), (u'looks', 1), (u'may', 1), (u'mini', 1), (u'mock', 1), (u'narrower', 1), (u'office', 1), (u'outer', 1), (u'outfit', 1), (u'pleat', 1), (u'pocket', 1), (u'poly', 1), (u'poplin', 1), (u'ralph', 1), (u'robust', 1), (u'rounder', 1), (u'ruffled', 1), (u'sides', 1), (u'simple', 1), (u'slim', 1), (u'slit', 1), (u'smooth', 1), (u'stitching', 1), (u'straight', 1), (u'style', 1), (u'taffeta', 1), (u'tape', 1), (u'town', 1), (u'two', 1), (u'typical', 1), (u'virtually', 1), (u'viscose', 1), (u'washed', 1)]\n"
     ]
    }
   ],
   "source": [
    "from sklearn.feature_extraction.text import CountVectorizer\n",
    "count_vectorizer = CountVectorizer()\n",
    "tf_matrix = count_vectorizer.fit_transform(texts[:5]) #learns term-documnet matrix based on word frequency\n",
    "terms = count_vectorizer.get_feature_names()\n",
    "freqs = tf_matrix.sum(axis=0).A1\n",
    "import operator\n",
    "print \"***Vocabulary frequency from most frequent to least***\"\n",
    "print sorted(zip(terms,freqs), key = lambda x: x[1], reverse = True)"
   ]
  },
  {
   "cell_type": "code",
   "execution_count": 89,
   "metadata": {
    "collapsed": false
   },
   "outputs": [
    {
     "name": "stdout",
     "output_type": "stream",
     "text": [
      "Vocabulary with inverse document frequency accounted for\n",
      "[(u'according', 2.09861228866811), (u'acetate', 2.09861228866811), (u'beautiful', 2.09861228866811), (u'black', 2.09861228866811), (u'blend', 2.09861228866811), (u'brown', 2.09861228866811), (u'business', 2.09861228866811), (u'casual', 2.09861228866811), (u'centre', 2.09861228866811), (u'component', 2.09861228866811), (u'concealed', 2.09861228866811), (u'curvy', 2.09861228866811), (u'cut', 2.09861228866811), (u'denim', 2.09861228866811), (u'details', 2.09861228866811), (u'diagonal', 2.09861228866811), (u'dividing', 2.09861228866811), (u'dots', 2.09861228866811), (u'double', 2.09861228866811), (u'drape', 2.09861228866811), (u'effects', 2.09861228866811), (u'embossed', 2.09861228866811), (u'excluding', 2.09861228866811), (u'extra', 2.09861228866811), (u'fastening', 2.09861228866811), (u'featuring', 2.09861228866811), (u'finish', 2.09861228866811), (u'fit', 2.09861228866811), (u'five', 2.09861228866811), (u'fixed', 2.09861228866811), (u'flap', 2.09861228866811), (u'floaty', 2.09861228866811), (u'front', 2.09861228866811), (u'gores', 2.09861228866811), (u'great', 2.09861228866811), (u'height', 2.09861228866811), (u'hip', 2.09861228866811), (u'holidays', 2.09861228866811), (u'kick', 2.09861228866811), (u'label', 2.09861228866811), (u'lauren', 2.09861228866811), (u'layers', 2.09861228866811), (u'leisure', 2.09861228866811), (u'light', 2.09861228866811), (u'lightweight', 2.09861228866811), (u'line', 2.09861228866811), (u'lining', 2.09861228866811), (u'logo', 2.09861228866811), (u'look', 2.09861228866811), (u'looks', 2.09861228866811), (u'may', 2.09861228866811), (u'mini', 2.09861228866811), (u'mock', 2.09861228866811), (u'narrower', 2.09861228866811), (u'office', 2.09861228866811), (u'outer', 2.09861228866811), (u'outfit', 2.09861228866811), (u'pleat', 2.09861228866811), (u'pocket', 2.09861228866811), (u'poly', 2.09861228866811), (u'poplin', 2.09861228866811), (u'ralph', 2.09861228866811), (u'robust', 2.09861228866811), (u'rounder', 2.09861228866811), (u'ruffled', 2.09861228866811), (u'sides', 2.09861228866811), (u'silk', 2.09861228866811), (u'simple', 2.09861228866811), (u'slim', 2.09861228866811), (u'slit', 2.09861228866811), (u'smooth', 2.09861228866811), (u'stitching', 2.09861228866811), (u'straight', 2.09861228866811), (u'style', 2.09861228866811), (u'taffeta', 2.09861228866811), (u'tape', 2.09861228866811), (u'town', 2.09861228866811), (u'two', 2.09861228866811), (u'typical', 2.09861228866811), (u'virtually', 2.09861228866811), (u'viscose', 2.09861228866811), (u'washed', 2.09861228866811), (u'belt', 1.6931471805599454), (u'buckle', 1.6931471805599454), (u'button', 1.6931471805599454), (u'classic', 1.6931471805599454), (u'crease', 1.6931471805599454), (u'decorative', 1.6931471805599454), (u'elastane', 1.6931471805599454), (u'fly', 1.6931471805599454), (u'loops', 1.6931471805599454), (u'metal', 1.6931471805599454), (u'multicoloured', 1.6931471805599454), (u'polyester', 1.6931471805599454), (u'resistant', 1.6931471805599454), (u'smart', 1.6931471805599454), (u'soft', 1.6931471805599454), (u'stretch', 1.6931471805599454), (u'woven', 1.6931471805599454), (u'back', 1.4054651081081644), (u'cotton', 1.4054651081081644), (u'pockets', 1.4054651081081644), (u'seam', 1.4054651081081644), (u'slightly', 1.4054651081081644), (u'approx', 1.1823215567939547), (u'cm', 1.1823215567939547), (u'length', 1.1823215567939547), (u'side', 1.1823215567939547), (u'size', 1.1823215567939547), (u'vary', 1.1823215567939547), (u'waistband', 1.1823215567939547), (u'zip', 1.1823215567939547), (u'fabric', 1.0), (u'skirt', 1.0)]\n"
     ]
    }
   ],
   "source": [
    "from sklearn.feature_extraction.text import TfidfTransformer\n",
    "tfidf = TfidfTransformer(norm=\"l2\",use_idf=True)\n",
    "tfidf.fit(tf_matrix)\n",
    "print \"***Vocabulary with inverse document frequency accounted for***\"\n",
    "print sorted(zip(count_vectorizer.get_feature_names(),tfidf.idf_), key = lambda x: x[1], reverse=True)"
   ]
  },
  {
   "cell_type": "code",
   "execution_count": null,
   "metadata": {
    "collapsed": true
   },
   "outputs": [],
   "source": []
  }
 ],
 "metadata": {
  "kernelspec": {
   "display_name": "Python 2",
   "language": "python",
   "name": "python2"
  },
  "language_info": {
   "codemirror_mode": {
    "name": "ipython",
    "version": 2
   },
   "file_extension": ".py",
   "mimetype": "text/x-python",
   "name": "python",
   "nbconvert_exporter": "python",
   "pygments_lexer": "ipython2",
   "version": "2.7.11"
  }
 },
 "nbformat": 4,
 "nbformat_minor": 0
}
